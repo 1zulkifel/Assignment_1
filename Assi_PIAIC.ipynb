{
 "cells": [
  {
   "cell_type": "code",
   "execution_count": 2,
   "metadata": {},
   "outputs": [
    {
     "name": "stdout",
     "output_type": "stream",
     "text": [
      "\n",
      "                  PIAIC Student ID Card\n",
      "            Name:Zulkifel Ahmad\n",
      "            Father Name: Rehmaan\n",
      "            Roll No:PIAIC56044\n",
      "            Batch: 3\n",
      "            center: Bahria University\n",
      "            \n",
      "\n"
     ]
    }
   ],
   "source": [
    "student_id='''\n",
    "                  PIAIC Student ID Card\n",
    "            Name:Zulkifel Ahmad\n",
    "            Father Name: Rehmaan\n",
    "            Roll No:PIAIC56044\n",
    "            Batch: 3\n",
    "            center: Bahria University\n",
    "            \n",
    "'''\n",
    "print(student_id)"
   ]
  },
  {
   "cell_type": "code",
   "execution_count": 4,
   "metadata": {},
   "outputs": [
    {
     "name": "stdout",
     "output_type": "stream",
     "text": [
      "13.0\n"
     ]
    }
   ],
   "source": [
    "print((2+3)+4+5*4/5)"
   ]
  },
  {
   "cell_type": "code",
   "execution_count": 5,
   "metadata": {},
   "outputs": [
    {
     "name": "stdout",
     "output_type": "stream",
     "text": [
      "140736383873120\n"
     ]
    }
   ],
   "source": [
    "a=12\n",
    "print(id(a))"
   ]
  },
  {
   "cell_type": "code",
   "execution_count": 6,
   "metadata": {},
   "outputs": [
    {
     "name": "stdout",
     "output_type": "stream",
     "text": [
      "140736383873152 140736383873152\n"
     ]
    }
   ],
   "source": [
    "a=13\n",
    "b=13\n",
    "print(id(a),id(b))"
   ]
  },
  {
   "cell_type": "code",
   "execution_count": 8,
   "metadata": {},
   "outputs": [
    {
     "name": "stdout",
     "output_type": "stream",
     "text": [
      "1345216905088\t1345216904920\t1345216904360\n"
     ]
    }
   ],
   "source": [
    "name1=\"tiger\"\n",
    "name2=\"ramzan\"\n",
    "name3=\"sher\"\n",
    "print(id(name1),id(name2),id(name3), sep='\\t')"
   ]
  },
  {
   "cell_type": "code",
   "execution_count": 9,
   "metadata": {},
   "outputs": [
    {
     "name": "stdout",
     "output_type": "stream",
     "text": [
      "1345216905088\n",
      "1345216904920\n",
      "1345216904360\n"
     ]
    }
   ],
   "source": [
    "name1=\"tiger\"\n",
    "name2=\"ramzan\"\n",
    "name3=\"sher\"\n",
    "print(id(name1),id(name2),id(name3), sep='\\n')"
   ]
  },
  {
   "cell_type": "code",
   "execution_count": 20,
   "metadata": {},
   "outputs": [
    {
     "ename": "TypeError",
     "evalue": "'tuple' object is not callable",
     "output_type": "error",
     "traceback": [
      "\u001b[1;31m---------------------------------------------------------------------------\u001b[0m",
      "\u001b[1;31mTypeError\u001b[0m                                 Traceback (most recent call last)",
      "\u001b[1;32m<ipython-input-20-4648210fd29b>\u001b[0m in \u001b[0;36m<module>\u001b[1;34m()\u001b[0m\n\u001b[0;32m      3\u001b[0m \u001b[0mname3\u001b[0m\u001b[1;33m=\u001b[0m\u001b[1;34m\"sher\"\u001b[0m\u001b[1;33m\u001b[0m\u001b[0m\n\u001b[0;32m      4\u001b[0m \u001b[0mprint\u001b[0m\u001b[1;33m=\u001b[0m\u001b[1;33m(\u001b[0m\u001b[0mname1\u001b[0m\u001b[1;33m,\u001b[0m \u001b[0mname2\u001b[0m\u001b[1;33m,\u001b[0m \u001b[0mname3\u001b[0m\u001b[1;33m,\u001b[0m \u001b[1;33m)\u001b[0m\u001b[1;33m\u001b[0m\u001b[0m\n\u001b[1;32m----> 5\u001b[1;33m \u001b[0mprint\u001b[0m\u001b[1;33m(\u001b[0m\u001b[0mid\u001b[0m\u001b[1;33m(\u001b[0m\u001b[0mname1\u001b[0m\u001b[1;33m)\u001b[0m\u001b[1;33m,\u001b[0m \u001b[0mid\u001b[0m\u001b[1;33m(\u001b[0m\u001b[0mname2\u001b[0m\u001b[1;33m)\u001b[0m\u001b[1;33m,\u001b[0m \u001b[0mid\u001b[0m\u001b[1;33m(\u001b[0m\u001b[0mname3\u001b[0m\u001b[1;33m)\u001b[0m\u001b[1;33m,\u001b[0m \u001b[0msep\u001b[0m\u001b[1;33m=\u001b[0m\u001b[1;34m'\\n'\u001b[0m\u001b[1;33m,\u001b[0m\u001b[1;33m)\u001b[0m\u001b[1;33m\u001b[0m\u001b[0m\n\u001b[0m",
      "\u001b[1;31mTypeError\u001b[0m: 'tuple' object is not callable"
     ]
    }
   ],
   "source": [
    "name1=\"tiger\"\n",
    "name2=\"ramzan\"\n",
    "name3=\"sher\"\n",
    "print=(name1, name2, name3, )\n",
    "print(id(name1), id(name2), id(name3), sep='\\n',)"
   ]
  },
  {
   "cell_type": "code",
   "execution_count": 8,
   "metadata": {},
   "outputs": [
    {
     "name": "stdout",
     "output_type": "stream",
     "text": [
      "tiger\tramzan\tsher\n",
      "3006173281448\t3006173280384\t3006173281336\n"
     ]
    }
   ],
   "source": [
    "name_1=\"tiger\"\n",
    "name_2=\"ramzan\"\n",
    "name_3=\"sher\"\n",
    "print( name_1,     name_2,     name_3, sep='\\t')\n",
    "print(id(name_1),id(name_2),id(name_3), sep='\\t')\n",
    "\n"
   ]
  },
  {
   "cell_type": "code",
   "execution_count": 15,
   "metadata": {},
   "outputs": [
    {
     "name": "stdout",
     "output_type": "stream",
     "text": [
      "tiger\tramzan\tsher\t3006173281448\t3006173280384\t3006173281336\n"
     ]
    }
   ],
   "source": [
    "name_1=\"tiger\"\n",
    "name_2=\"ramzan\"\n",
    "name_3=\"sher\"\n",
    "print( name_1,name_2, name_3,id(name_1),id(name_2),id(name_3),  sep='\\t')"
   ]
  },
  {
   "cell_type": "code",
   "execution_count": 16,
   "metadata": {},
   "outputs": [
    {
     "name": "stdout",
     "output_type": "stream",
     "text": [
      "ALI KHAN\n",
      "sher khan\n"
     ]
    }
   ],
   "source": [
    "name_1= \"ali khan\"\n",
    "name_2=\"SHER KHAN\"\n",
    "name_3=\"zulkifel\"\n",
    "print(name_1.upper())\n",
    "print(name_2.lower())"
   ]
  },
  {
   "cell_type": "code",
   "execution_count": 17,
   "metadata": {},
   "outputs": [
    {
     "name": "stdout",
     "output_type": "stream",
     "text": [
      "54\n"
     ]
    }
   ],
   "source": [
    "a=\"5\"\n",
    "b=\"4\"\n",
    "print(a+b)"
   ]
  },
  {
   "cell_type": "code",
   "execution_count": 31,
   "metadata": {},
   "outputs": [
    {
     "name": "stdout",
     "output_type": "stream",
     "text": [
      "9\n"
     ]
    }
   ],
   "source": [
    "a=5\n",
    "b=4\n",
    "print(a+b)"
   ]
  },
  {
   "cell_type": "code",
   "execution_count": 23,
   "metadata": {},
   "outputs": [
    {
     "data": {
      "text/plain": [
       "['__add__',\n",
       " '__class__',\n",
       " '__contains__',\n",
       " '__delattr__',\n",
       " '__dir__',\n",
       " '__doc__',\n",
       " '__eq__',\n",
       " '__format__',\n",
       " '__ge__',\n",
       " '__getattribute__',\n",
       " '__getitem__',\n",
       " '__getnewargs__',\n",
       " '__gt__',\n",
       " '__hash__',\n",
       " '__init__',\n",
       " '__init_subclass__',\n",
       " '__iter__',\n",
       " '__le__',\n",
       " '__len__',\n",
       " '__lt__',\n",
       " '__mod__',\n",
       " '__mul__',\n",
       " '__ne__',\n",
       " '__new__',\n",
       " '__reduce__',\n",
       " '__reduce_ex__',\n",
       " '__repr__',\n",
       " '__rmod__',\n",
       " '__rmul__',\n",
       " '__setattr__',\n",
       " '__sizeof__',\n",
       " '__str__',\n",
       " '__subclasshook__',\n",
       " 'capitalize',\n",
       " 'casefold',\n",
       " 'center',\n",
       " 'count',\n",
       " 'encode',\n",
       " 'endswith',\n",
       " 'expandtabs',\n",
       " 'find',\n",
       " 'format',\n",
       " 'format_map',\n",
       " 'index',\n",
       " 'isalnum',\n",
       " 'isalpha',\n",
       " 'isascii',\n",
       " 'isdecimal',\n",
       " 'isdigit',\n",
       " 'isidentifier',\n",
       " 'islower',\n",
       " 'isnumeric',\n",
       " 'isprintable',\n",
       " 'isspace',\n",
       " 'istitle',\n",
       " 'isupper',\n",
       " 'join',\n",
       " 'ljust',\n",
       " 'lower',\n",
       " 'lstrip',\n",
       " 'maketrans',\n",
       " 'partition',\n",
       " 'replace',\n",
       " 'rfind',\n",
       " 'rindex',\n",
       " 'rjust',\n",
       " 'rpartition',\n",
       " 'rsplit',\n",
       " 'rstrip',\n",
       " 'split',\n",
       " 'splitlines',\n",
       " 'startswith',\n",
       " 'strip',\n",
       " 'swapcase',\n",
       " 'title',\n",
       " 'translate',\n",
       " 'upper',\n",
       " 'zfill']"
      ]
     },
     "execution_count": 23,
     "metadata": {},
     "output_type": "execute_result"
    }
   ],
   "source": [
    "dir(name_1)"
   ]
  },
  {
   "cell_type": "code",
   "execution_count": 24,
   "metadata": {},
   "outputs": [
    {
     "name": "stdout",
     "output_type": "stream",
     "text": [
      "i am alpha and you are beta\n"
     ]
    }
   ],
   "source": [
    "alpha_1=\"i am alpha and you are beta\"\n",
    "print(alpha_1)"
   ]
  },
  {
   "cell_type": "code",
   "execution_count": 28,
   "metadata": {},
   "outputs": [
    {
     "data": {
      "text/plain": [
       "True"
      ]
     },
     "execution_count": 28,
     "metadata": {},
     "output_type": "execute_result"
    }
   ],
   "source": [
    "alpha_1.casefold()==\"i am alpha and you are beta\""
   ]
  },
  {
   "cell_type": "code",
   "execution_count": 29,
   "metadata": {},
   "outputs": [
    {
     "name": "stdout",
     "output_type": "stream",
     "text": [
      "machine learning, artificial intelligence, deap learning\n"
     ]
    }
   ],
   "source": [
    "alpha_2=\"machine learning, artificial intelligence, deap learning\"\n",
    "print(alpha_2)"
   ]
  },
  {
   "cell_type": "code",
   "execution_count": 30,
   "metadata": {},
   "outputs": [
    {
     "data": {
      "text/plain": [
       "True"
      ]
     },
     "execution_count": 30,
     "metadata": {},
     "output_type": "execute_result"
    }
   ],
   "source": [
    "alpha_2.casefold()==alpha_2"
   ]
  },
  {
   "cell_type": "code",
   "execution_count": 33,
   "metadata": {},
   "outputs": [
    {
     "name": "stdout",
     "output_type": "stream",
     "text": [
      "MACHINE LEARNING, ARTIFICIAL INTELLIGENCE, DEAP LEARNING\n"
     ]
    }
   ],
   "source": [
    "print(alpha_2.upper())"
   ]
  },
  {
   "cell_type": "code",
   "execution_count": 50,
   "metadata": {},
   "outputs": [],
   "source": [
    "str9=alpha_2.center(18, \"-\")"
   ]
  },
  {
   "cell_type": "code",
   "execution_count": 9,
   "metadata": {},
   "outputs": [
    {
     "name": "stdout",
     "output_type": "stream",
     "text": [
      "1\n",
      "1\n"
     ]
    }
   ],
   "source": [
    "name='Muhammad ali khan '\n",
    "print(name.count('M'))\n",
    "print(name.count('ali khan'))"
   ]
  },
  {
   "cell_type": "code",
   "execution_count": 10,
   "metadata": {},
   "outputs": [
    {
     "name": "stdout",
     "output_type": "stream",
     "text": [
      "1.0909090909090908\n"
     ]
    }
   ],
   "source": [
    "weight=24\n",
    "weight/=22\n",
    "print(weight)\n",
    "\n"
   ]
  },
  {
   "cell_type": "code",
   "execution_count": 11,
   "metadata": {},
   "outputs": [
    {
     "name": "stdout",
     "output_type": "stream",
     "text": [
      "1\n"
     ]
    }
   ],
   "source": [
    "what_left=3%2\n",
    "print(what_left)"
   ]
  },
  {
   "cell_type": "code",
   "execution_count": 12,
   "metadata": {},
   "outputs": [
    {
     "name": "stdout",
     "output_type": "stream",
     "text": [
      "24\n"
     ]
    }
   ],
   "source": [
    "age=23\n",
    "increasing_num=age+1\n",
    "print(increasing_num)"
   ]
  },
  {
   "cell_type": "code",
   "execution_count": 13,
   "metadata": {},
   "outputs": [
    {
     "name": "stdout",
     "output_type": "stream",
     "text": [
      "22\n"
     ]
    }
   ],
   "source": [
    "age=10\n",
    "age+=12\n",
    "print(age)"
   ]
  },
  {
   "cell_type": "code",
   "execution_count": 14,
   "metadata": {},
   "outputs": [
    {
     "name": "stdout",
     "output_type": "stream",
     "text": [
      "1\n"
     ]
    }
   ],
   "source": [
    "age=23\n",
    "age-=22\n",
    "print(age)"
   ]
  },
  {
   "cell_type": "code",
   "execution_count": 15,
   "metadata": {},
   "outputs": [
    {
     "name": "stdout",
     "output_type": "stream",
     "text": [
      "17.0\n"
     ]
    }
   ],
   "source": [
    "resulting_num=((12*2)/2)+5\n",
    "print(resulting_num)\n"
   ]
  },
  {
   "cell_type": "code",
   "execution_count": 16,
   "metadata": {},
   "outputs": [
    {
     "name": "stdout",
     "output_type": "stream",
     "text": [
      "\n",
      "                name: zulkifel ahmad\n",
      "                roll No:PIAIC56044\n",
      "                city: Islamabad\n",
      "                batch:3\n"
     ]
    }
   ],
   "source": [
    "assignment_a='''\n",
    "                name: zulkifel ahmad\n",
    "                roll No:PIAIC56044\n",
    "                city: Islamabad\n",
    "                batch:3'''\n",
    "print(assignment_a)\n"
   ]
  },
  {
   "cell_type": "code",
   "execution_count": 17,
   "metadata": {},
   "outputs": [
    {
     "name": "stdout",
     "output_type": "stream",
     "text": [
      "\n",
      "                NAME: ZULKIFEL AHMAD\n",
      "                ROLL NO:PIAIC56044\n",
      "                CITY: ISLAMABAD\n",
      "                BATCH:3\n"
     ]
    }
   ],
   "source": [
    "print(assignment_a.upper())"
   ]
  },
  {
   "cell_type": "code",
   "execution_count": 18,
   "metadata": {},
   "outputs": [
    {
     "name": "stdout",
     "output_type": "stream",
     "text": [
      "\n",
      "                name: zulkifel ahmad\n",
      "                roll no:piaic56044\n",
      "                city: islamabad\n",
      "                batch:3\n"
     ]
    }
   ],
   "source": [
    "print(assignment_a.lower())"
   ]
  },
  {
   "cell_type": "code",
   "execution_count": 20,
   "metadata": {},
   "outputs": [
    {
     "name": "stdout",
     "output_type": "stream",
     "text": [
      "\n",
      "                name: zulkifel ahmad\n",
      "                roll No:PIAIC56044\n",
      "                city: Islamabad\n",
      "                batch:3\n",
      "\n",
      "                name: zulkifel ahmad\n",
      "                roll No:PIAIC56044\n",
      "                city: Islamabad\n",
      "                batch:3\n"
     ]
    }
   ],
   "source": [
    "print(assignment_a.center(1))\n",
    "print(assignment_a.center(2))"
   ]
  },
  {
   "cell_type": "code",
   "execution_count": 21,
   "metadata": {},
   "outputs": [
    {
     "name": "stdout",
     "output_type": "stream",
     "text": [
      "1\n"
     ]
    }
   ],
   "source": [
    "print(assignment_a.count('PIAIC56044'))"
   ]
  },
  {
   "cell_type": "code",
   "execution_count": 22,
   "metadata": {},
   "outputs": [
    {
     "name": "stdout",
     "output_type": "stream",
     "text": [
      "2\n",
      "1\n"
     ]
    }
   ],
   "source": [
    "print(assignment_a.count('i'))\n",
    "print(assignment_a.count('zulkifel'))"
   ]
  },
  {
   "cell_type": "code",
   "execution_count": 23,
   "metadata": {},
   "outputs": [
    {
     "name": "stdout",
     "output_type": "stream",
     "text": [
      "\n",
      "                name: zulkifel ahmad\n",
      "                roll No:PIAIC56044\n",
      "                city: Islamabad\n",
      "                batch:3\n",
      "\n",
      "                name: zulkifel ahmad\n",
      "                roll No:PIAIC56044\n",
      "                city: Islamabad\n",
      "                batch:3\n"
     ]
    }
   ],
   "source": [
    "x=assignment_a\n",
    "print(x)\n",
    "print(assignment_a.expandtabs(5))"
   ]
  },
  {
   "cell_type": "code",
   "execution_count": 24,
   "metadata": {},
   "outputs": [
    {
     "name": "stdout",
     "output_type": "stream",
     "text": [
      "z\tu\tl\tk\ti\tf\te\tl\n",
      "z      u      l      k      i      f      e      l\n"
     ]
    }
   ],
   "source": [
    "name='z\\tu\\tl\\tk\\ti\\tf\\te\\tl'\n",
    "print(name)\n",
    "print(name.expandtabs(7))"
   ]
  },
  {
   "cell_type": "code",
   "execution_count": 25,
   "metadata": {},
   "outputs": [
    {
     "name": "stdout",
     "output_type": "stream",
     "text": [
      "32\n"
     ]
    }
   ],
   "source": [
    "print(assignment_a.find('ahmad'))"
   ]
  },
  {
   "cell_type": "code",
   "execution_count": 26,
   "metadata": {},
   "outputs": [
    {
     "name": "stdout",
     "output_type": "stream",
     "text": [
      "zulal\n"
     ]
    }
   ],
   "source": [
    "alpha='zulkifel'\n",
    "print(alpha.replace('kifel', 'al'))"
   ]
  },
  {
   "cell_type": "code",
   "execution_count": 27,
   "metadata": {},
   "outputs": [
    {
     "name": "stdout",
     "output_type": "stream",
     "text": [
      "amaaar\n"
     ]
    }
   ],
   "source": [
    "beta='bahar'\n",
    "print(beta.replace('bah', 'amaa'))"
   ]
  },
  {
   "cell_type": "code",
   "execution_count": 28,
   "metadata": {},
   "outputs": [
    {
     "name": "stdout",
     "output_type": "stream",
     "text": [
      "b'\\n                name: zulkifel ahmad\\n                roll No:PIAIC56044\\n                city: Islamabad\\n                batch:3'\n"
     ]
    }
   ],
   "source": [
    "print(assignment_a.encode())"
   ]
  },
  {
   "cell_type": "code",
   "execution_count": 29,
   "metadata": {},
   "outputs": [
    {
     "name": "stdout",
     "output_type": "stream",
     "text": [
      "b'ali'\n"
     ]
    }
   ],
   "source": [
    "name='ali'\n",
    "print(name.encode('ascii'))"
   ]
  },
  {
   "cell_type": "code",
   "execution_count": 31,
   "metadata": {},
   "outputs": [
    {
     "name": "stdout",
     "output_type": "stream",
     "text": [
      "True\n"
     ]
    }
   ],
   "source": [
    "print(name.isalpha())"
   ]
  },
  {
   "cell_type": "code",
   "execution_count": 32,
   "metadata": {},
   "outputs": [
    {
     "name": "stdout",
     "output_type": "stream",
     "text": [
      "True\n",
      "True\n"
     ]
    }
   ],
   "source": [
    "print(name.isalnum())\n",
    "name='ali'\n",
    "print(name.isalnum())"
   ]
  },
  {
   "cell_type": "code",
   "execution_count": 33,
   "metadata": {},
   "outputs": [
    {
     "name": "stdout",
     "output_type": "stream",
     "text": [
      "ali\n",
      "True\n",
      "True\n"
     ]
    }
   ],
   "source": [
    "print(name)\n",
    "print(name.isascii())\n",
    "gama='110'\n",
    "print(gama.isascii())"
   ]
  },
  {
   "cell_type": "code",
   "execution_count": 34,
   "metadata": {},
   "outputs": [
    {
     "name": "stdout",
     "output_type": "stream",
     "text": [
      "False\n",
      "True\n"
     ]
    }
   ],
   "source": [
    "print(name.isdigit())\n",
    "print(gama.isdigit())"
   ]
  },
  {
   "cell_type": "code",
   "execution_count": 36,
   "metadata": {},
   "outputs": [
    {
     "name": "stdout",
     "output_type": "stream",
     "text": [
      "True\n",
      "True\n",
      "False\n",
      "False\n"
     ]
    }
   ],
   "source": [
    "name_a='zulkifel ahmad'\n",
    "print(name_a.endswith('ahmad'))\n",
    "print(name_a.startswith('zulkifel'))\n",
    "print(name_a.endswith('ahmad',8,13))\n",
    "print(name_a.endswith('ahmad',7,6))"
   ]
  },
  {
   "cell_type": "code",
   "execution_count": null,
   "metadata": {},
   "outputs": [],
   "source": []
  }
 ],
 "metadata": {
  "kernelspec": {
   "display_name": "Python 3",
   "language": "python",
   "name": "python3"
  },
  "language_info": {
   "codemirror_mode": {
    "name": "ipython",
    "version": 3
   },
   "file_extension": ".py",
   "mimetype": "text/x-python",
   "name": "python",
   "nbconvert_exporter": "python",
   "pygments_lexer": "ipython3",
   "version": "3.7.0"
  }
 },
 "nbformat": 4,
 "nbformat_minor": 2
}
